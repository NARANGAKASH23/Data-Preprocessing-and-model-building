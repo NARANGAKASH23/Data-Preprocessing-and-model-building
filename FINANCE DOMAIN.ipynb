{
 "cells": [
  {
   "cell_type": "code",
   "execution_count": 1,
   "id": "8fa754e8",
   "metadata": {},
   "outputs": [],
   "source": [
    "# Chi square :  Cat vs Cat\n",
    "# t-test : Cat vs num. Two categories. Varibales <= 30.\n",
    "# z-test : Cat vs num. Two Categories. Variables>30.\n",
    "# Anova : Cat vs num. >= 3 Categories"
   ]
  },
  {
   "cell_type": "code",
   "execution_count": 2,
   "id": "da581ed9",
   "metadata": {},
   "outputs": [],
   "source": [
    "# Out Standing Principle(OSP) : Loan amount to left to repay.\n",
    "# Portfolio At Risk : OSP when DPD>0.\n",
    "# GNPA : NPA \n",
    "# Net NPA : GNPA - Provisioning\n",
    "# SMA1,SMA2,SMA3"
   ]
  },
  {
   "cell_type": "code",
   "execution_count": 3,
   "id": "428453c8",
   "metadata": {},
   "outputs": [],
   "source": [
    "# Importing basic libraries\n",
    "import os\n",
    "import numpy as np\n",
    "import pandas as pd\n",
    "import matplotlib.pyplot as plt\n",
    "import seaborn as sns\n",
    "%matplotlib inline\n",
    "sns.set()\n",
    "import warnings\n",
    "warnings.filterwarnings('ignore')"
   ]
  },
  {
   "cell_type": "markdown",
   "id": "18b764fb",
   "metadata": {},
   "source": [
    "#### Changing the current working directory"
   ]
  },
  {
   "cell_type": "code",
   "execution_count": 4,
   "id": "b8917230",
   "metadata": {},
   "outputs": [],
   "source": [
    "os.chdir('C:\\LEARNBAY CLASSES\\learnbay projects\\FINANCE NEW DOMAIN')"
   ]
  },
  {
   "cell_type": "code",
   "execution_count": 5,
   "id": "ef28046c",
   "metadata": {},
   "outputs": [
    {
     "data": {
      "text/plain": [
       "'C:\\\\LEARNBAY CLASSES\\\\learnbay projects\\\\FINANCE NEW DOMAIN'"
      ]
     },
     "execution_count": 5,
     "metadata": {},
     "output_type": "execute_result"
    }
   ],
   "source": [
    "os.getcwd()"
   ]
  },
  {
   "cell_type": "code",
   "execution_count": 6,
   "id": "2bdef911",
   "metadata": {},
   "outputs": [],
   "source": [
    "df1=pd.read_excel('dataset1.xlsx')\n",
    "df2=pd.read_excel('dataset2.xlsx')"
   ]
  },
  {
   "cell_type": "markdown",
   "id": "fc645ea4",
   "metadata": {},
   "source": [
    "#### Shape of both datasets"
   ]
  },
  {
   "cell_type": "code",
   "execution_count": 7,
   "id": "b61f21d3",
   "metadata": {},
   "outputs": [
    {
     "name": "stdout",
     "output_type": "stream",
     "text": [
      "Dataset1 has 51336 rows and 26 columns.\n",
      "Dataset2 has 51336 rows and 62 columns.\n"
     ]
    }
   ],
   "source": [
    "print(f'Dataset1 has {df1.shape[0]} rows and {df1.shape[1]} columns.')\n",
    "print(f'Dataset2 has {df2.shape[0]} rows and {df2.shape[1]} columns.')"
   ]
  },
  {
   "cell_type": "markdown",
   "id": "de2e399f",
   "metadata": {},
   "source": [
    "#### Peeking into both datasets"
   ]
  },
  {
   "cell_type": "code",
   "execution_count": 8,
   "id": "ea3b3acc",
   "metadata": {
    "scrolled": true
   },
   "outputs": [
    {
     "data": {
      "text/html": [
       "<div>\n",
       "<style scoped>\n",
       "    .dataframe tbody tr th:only-of-type {\n",
       "        vertical-align: middle;\n",
       "    }\n",
       "\n",
       "    .dataframe tbody tr th {\n",
       "        vertical-align: top;\n",
       "    }\n",
       "\n",
       "    .dataframe thead th {\n",
       "        text-align: right;\n",
       "    }\n",
       "</style>\n",
       "<table border=\"1\" class=\"dataframe\">\n",
       "  <thead>\n",
       "    <tr style=\"text-align: right;\">\n",
       "      <th></th>\n",
       "      <th>PROSPECTID</th>\n",
       "      <th>Total_TL</th>\n",
       "      <th>Tot_Closed_TL</th>\n",
       "      <th>Tot_Active_TL</th>\n",
       "      <th>Total_TL_opened_L6M</th>\n",
       "      <th>Tot_TL_closed_L6M</th>\n",
       "      <th>pct_tl_open_L6M</th>\n",
       "      <th>pct_tl_closed_L6M</th>\n",
       "      <th>pct_active_tl</th>\n",
       "      <th>pct_closed_tl</th>\n",
       "      <th>...</th>\n",
       "      <th>CC_TL</th>\n",
       "      <th>Consumer_TL</th>\n",
       "      <th>Gold_TL</th>\n",
       "      <th>Home_TL</th>\n",
       "      <th>PL_TL</th>\n",
       "      <th>Secured_TL</th>\n",
       "      <th>Unsecured_TL</th>\n",
       "      <th>Other_TL</th>\n",
       "      <th>Age_Oldest_TL</th>\n",
       "      <th>Age_Newest_TL</th>\n",
       "    </tr>\n",
       "  </thead>\n",
       "  <tbody>\n",
       "    <tr>\n",
       "      <th>0</th>\n",
       "      <td>1</td>\n",
       "      <td>5</td>\n",
       "      <td>4</td>\n",
       "      <td>1</td>\n",
       "      <td>0</td>\n",
       "      <td>0</td>\n",
       "      <td>0.000</td>\n",
       "      <td>0.0</td>\n",
       "      <td>0.200</td>\n",
       "      <td>0.800</td>\n",
       "      <td>...</td>\n",
       "      <td>0</td>\n",
       "      <td>0</td>\n",
       "      <td>1</td>\n",
       "      <td>0</td>\n",
       "      <td>4</td>\n",
       "      <td>1</td>\n",
       "      <td>4</td>\n",
       "      <td>0</td>\n",
       "      <td>72</td>\n",
       "      <td>18</td>\n",
       "    </tr>\n",
       "    <tr>\n",
       "      <th>1</th>\n",
       "      <td>2</td>\n",
       "      <td>1</td>\n",
       "      <td>0</td>\n",
       "      <td>1</td>\n",
       "      <td>0</td>\n",
       "      <td>0</td>\n",
       "      <td>0.000</td>\n",
       "      <td>0.0</td>\n",
       "      <td>1.000</td>\n",
       "      <td>0.000</td>\n",
       "      <td>...</td>\n",
       "      <td>0</td>\n",
       "      <td>1</td>\n",
       "      <td>0</td>\n",
       "      <td>0</td>\n",
       "      <td>0</td>\n",
       "      <td>0</td>\n",
       "      <td>1</td>\n",
       "      <td>0</td>\n",
       "      <td>7</td>\n",
       "      <td>7</td>\n",
       "    </tr>\n",
       "    <tr>\n",
       "      <th>2</th>\n",
       "      <td>3</td>\n",
       "      <td>8</td>\n",
       "      <td>0</td>\n",
       "      <td>8</td>\n",
       "      <td>1</td>\n",
       "      <td>0</td>\n",
       "      <td>0.125</td>\n",
       "      <td>0.0</td>\n",
       "      <td>1.000</td>\n",
       "      <td>0.000</td>\n",
       "      <td>...</td>\n",
       "      <td>0</td>\n",
       "      <td>6</td>\n",
       "      <td>1</td>\n",
       "      <td>0</td>\n",
       "      <td>0</td>\n",
       "      <td>2</td>\n",
       "      <td>6</td>\n",
       "      <td>0</td>\n",
       "      <td>47</td>\n",
       "      <td>2</td>\n",
       "    </tr>\n",
       "    <tr>\n",
       "      <th>3</th>\n",
       "      <td>4</td>\n",
       "      <td>1</td>\n",
       "      <td>0</td>\n",
       "      <td>1</td>\n",
       "      <td>1</td>\n",
       "      <td>0</td>\n",
       "      <td>1.000</td>\n",
       "      <td>0.0</td>\n",
       "      <td>1.000</td>\n",
       "      <td>0.000</td>\n",
       "      <td>...</td>\n",
       "      <td>0</td>\n",
       "      <td>0</td>\n",
       "      <td>0</td>\n",
       "      <td>0</td>\n",
       "      <td>0</td>\n",
       "      <td>0</td>\n",
       "      <td>1</td>\n",
       "      <td>1</td>\n",
       "      <td>5</td>\n",
       "      <td>5</td>\n",
       "    </tr>\n",
       "    <tr>\n",
       "      <th>4</th>\n",
       "      <td>5</td>\n",
       "      <td>3</td>\n",
       "      <td>2</td>\n",
       "      <td>1</td>\n",
       "      <td>0</td>\n",
       "      <td>0</td>\n",
       "      <td>0.000</td>\n",
       "      <td>0.0</td>\n",
       "      <td>0.333</td>\n",
       "      <td>0.667</td>\n",
       "      <td>...</td>\n",
       "      <td>0</td>\n",
       "      <td>0</td>\n",
       "      <td>0</td>\n",
       "      <td>0</td>\n",
       "      <td>0</td>\n",
       "      <td>3</td>\n",
       "      <td>0</td>\n",
       "      <td>2</td>\n",
       "      <td>131</td>\n",
       "      <td>32</td>\n",
       "    </tr>\n",
       "  </tbody>\n",
       "</table>\n",
       "<p>5 rows × 26 columns</p>\n",
       "</div>"
      ],
      "text/plain": [
       "   PROSPECTID  Total_TL  Tot_Closed_TL  Tot_Active_TL  Total_TL_opened_L6M  \\\n",
       "0           1         5              4              1                    0   \n",
       "1           2         1              0              1                    0   \n",
       "2           3         8              0              8                    1   \n",
       "3           4         1              0              1                    1   \n",
       "4           5         3              2              1                    0   \n",
       "\n",
       "   Tot_TL_closed_L6M  pct_tl_open_L6M  pct_tl_closed_L6M  pct_active_tl  \\\n",
       "0                  0            0.000                0.0          0.200   \n",
       "1                  0            0.000                0.0          1.000   \n",
       "2                  0            0.125                0.0          1.000   \n",
       "3                  0            1.000                0.0          1.000   \n",
       "4                  0            0.000                0.0          0.333   \n",
       "\n",
       "   pct_closed_tl  ...  CC_TL  Consumer_TL  Gold_TL  Home_TL  PL_TL  \\\n",
       "0          0.800  ...      0            0        1        0      4   \n",
       "1          0.000  ...      0            1        0        0      0   \n",
       "2          0.000  ...      0            6        1        0      0   \n",
       "3          0.000  ...      0            0        0        0      0   \n",
       "4          0.667  ...      0            0        0        0      0   \n",
       "\n",
       "   Secured_TL  Unsecured_TL  Other_TL  Age_Oldest_TL  Age_Newest_TL  \n",
       "0           1             4         0             72             18  \n",
       "1           0             1         0              7              7  \n",
       "2           2             6         0             47              2  \n",
       "3           0             1         1              5              5  \n",
       "4           3             0         2            131             32  \n",
       "\n",
       "[5 rows x 26 columns]"
      ]
     },
     "execution_count": 8,
     "metadata": {},
     "output_type": "execute_result"
    }
   ],
   "source": [
    "df1.head()"
   ]
  },
  {
   "cell_type": "code",
   "execution_count": 9,
   "id": "580e9bbc",
   "metadata": {
    "scrolled": true
   },
   "outputs": [
    {
     "data": {
      "text/html": [
       "<div>\n",
       "<style scoped>\n",
       "    .dataframe tbody tr th:only-of-type {\n",
       "        vertical-align: middle;\n",
       "    }\n",
       "\n",
       "    .dataframe tbody tr th {\n",
       "        vertical-align: top;\n",
       "    }\n",
       "\n",
       "    .dataframe thead th {\n",
       "        text-align: right;\n",
       "    }\n",
       "</style>\n",
       "<table border=\"1\" class=\"dataframe\">\n",
       "  <thead>\n",
       "    <tr style=\"text-align: right;\">\n",
       "      <th></th>\n",
       "      <th>PROSPECTID</th>\n",
       "      <th>time_since_recent_payment</th>\n",
       "      <th>time_since_first_deliquency</th>\n",
       "      <th>time_since_recent_deliquency</th>\n",
       "      <th>num_times_delinquent</th>\n",
       "      <th>max_delinquency_level</th>\n",
       "      <th>max_recent_level_of_deliq</th>\n",
       "      <th>num_deliq_6mts</th>\n",
       "      <th>num_deliq_12mts</th>\n",
       "      <th>num_deliq_6_12mts</th>\n",
       "      <th>...</th>\n",
       "      <th>pct_CC_enq_L6m_of_L12m</th>\n",
       "      <th>pct_PL_enq_L6m_of_ever</th>\n",
       "      <th>pct_CC_enq_L6m_of_ever</th>\n",
       "      <th>max_unsec_exposure_inPct</th>\n",
       "      <th>HL_Flag</th>\n",
       "      <th>GL_Flag</th>\n",
       "      <th>last_prod_enq2</th>\n",
       "      <th>first_prod_enq2</th>\n",
       "      <th>Credit_Score</th>\n",
       "      <th>Approved_Flag</th>\n",
       "    </tr>\n",
       "  </thead>\n",
       "  <tbody>\n",
       "    <tr>\n",
       "      <th>0</th>\n",
       "      <td>1</td>\n",
       "      <td>549</td>\n",
       "      <td>35</td>\n",
       "      <td>15</td>\n",
       "      <td>11</td>\n",
       "      <td>29</td>\n",
       "      <td>29</td>\n",
       "      <td>0</td>\n",
       "      <td>0</td>\n",
       "      <td>0</td>\n",
       "      <td>...</td>\n",
       "      <td>0.0</td>\n",
       "      <td>0.0</td>\n",
       "      <td>0.0</td>\n",
       "      <td>13.333</td>\n",
       "      <td>1</td>\n",
       "      <td>0</td>\n",
       "      <td>PL</td>\n",
       "      <td>PL</td>\n",
       "      <td>696</td>\n",
       "      <td>P2</td>\n",
       "    </tr>\n",
       "    <tr>\n",
       "      <th>1</th>\n",
       "      <td>2</td>\n",
       "      <td>47</td>\n",
       "      <td>-99999</td>\n",
       "      <td>-99999</td>\n",
       "      <td>0</td>\n",
       "      <td>-99999</td>\n",
       "      <td>0</td>\n",
       "      <td>0</td>\n",
       "      <td>0</td>\n",
       "      <td>0</td>\n",
       "      <td>...</td>\n",
       "      <td>0.0</td>\n",
       "      <td>0.0</td>\n",
       "      <td>0.0</td>\n",
       "      <td>0.860</td>\n",
       "      <td>0</td>\n",
       "      <td>0</td>\n",
       "      <td>ConsumerLoan</td>\n",
       "      <td>ConsumerLoan</td>\n",
       "      <td>685</td>\n",
       "      <td>P2</td>\n",
       "    </tr>\n",
       "    <tr>\n",
       "      <th>2</th>\n",
       "      <td>3</td>\n",
       "      <td>302</td>\n",
       "      <td>11</td>\n",
       "      <td>3</td>\n",
       "      <td>9</td>\n",
       "      <td>25</td>\n",
       "      <td>25</td>\n",
       "      <td>1</td>\n",
       "      <td>9</td>\n",
       "      <td>8</td>\n",
       "      <td>...</td>\n",
       "      <td>0.0</td>\n",
       "      <td>0.0</td>\n",
       "      <td>0.0</td>\n",
       "      <td>5741.667</td>\n",
       "      <td>1</td>\n",
       "      <td>0</td>\n",
       "      <td>ConsumerLoan</td>\n",
       "      <td>others</td>\n",
       "      <td>693</td>\n",
       "      <td>P2</td>\n",
       "    </tr>\n",
       "    <tr>\n",
       "      <th>3</th>\n",
       "      <td>4</td>\n",
       "      <td>-99999</td>\n",
       "      <td>-99999</td>\n",
       "      <td>-99999</td>\n",
       "      <td>0</td>\n",
       "      <td>-99999</td>\n",
       "      <td>0</td>\n",
       "      <td>0</td>\n",
       "      <td>0</td>\n",
       "      <td>0</td>\n",
       "      <td>...</td>\n",
       "      <td>0.0</td>\n",
       "      <td>0.0</td>\n",
       "      <td>0.0</td>\n",
       "      <td>9.900</td>\n",
       "      <td>0</td>\n",
       "      <td>0</td>\n",
       "      <td>others</td>\n",
       "      <td>others</td>\n",
       "      <td>673</td>\n",
       "      <td>P2</td>\n",
       "    </tr>\n",
       "    <tr>\n",
       "      <th>4</th>\n",
       "      <td>5</td>\n",
       "      <td>583</td>\n",
       "      <td>-99999</td>\n",
       "      <td>-99999</td>\n",
       "      <td>0</td>\n",
       "      <td>-99999</td>\n",
       "      <td>0</td>\n",
       "      <td>0</td>\n",
       "      <td>0</td>\n",
       "      <td>0</td>\n",
       "      <td>...</td>\n",
       "      <td>0.0</td>\n",
       "      <td>0.0</td>\n",
       "      <td>0.0</td>\n",
       "      <td>-99999.000</td>\n",
       "      <td>0</td>\n",
       "      <td>0</td>\n",
       "      <td>AL</td>\n",
       "      <td>AL</td>\n",
       "      <td>753</td>\n",
       "      <td>P1</td>\n",
       "    </tr>\n",
       "  </tbody>\n",
       "</table>\n",
       "<p>5 rows × 62 columns</p>\n",
       "</div>"
      ],
      "text/plain": [
       "   PROSPECTID  time_since_recent_payment  time_since_first_deliquency  \\\n",
       "0           1                        549                           35   \n",
       "1           2                         47                       -99999   \n",
       "2           3                        302                           11   \n",
       "3           4                     -99999                       -99999   \n",
       "4           5                        583                       -99999   \n",
       "\n",
       "   time_since_recent_deliquency  num_times_delinquent  max_delinquency_level  \\\n",
       "0                            15                    11                     29   \n",
       "1                        -99999                     0                 -99999   \n",
       "2                             3                     9                     25   \n",
       "3                        -99999                     0                 -99999   \n",
       "4                        -99999                     0                 -99999   \n",
       "\n",
       "   max_recent_level_of_deliq  num_deliq_6mts  num_deliq_12mts  \\\n",
       "0                         29               0                0   \n",
       "1                          0               0                0   \n",
       "2                         25               1                9   \n",
       "3                          0               0                0   \n",
       "4                          0               0                0   \n",
       "\n",
       "   num_deliq_6_12mts  ...  pct_CC_enq_L6m_of_L12m  pct_PL_enq_L6m_of_ever  \\\n",
       "0                  0  ...                     0.0                     0.0   \n",
       "1                  0  ...                     0.0                     0.0   \n",
       "2                  8  ...                     0.0                     0.0   \n",
       "3                  0  ...                     0.0                     0.0   \n",
       "4                  0  ...                     0.0                     0.0   \n",
       "\n",
       "   pct_CC_enq_L6m_of_ever  max_unsec_exposure_inPct  HL_Flag  GL_Flag  \\\n",
       "0                     0.0                    13.333        1        0   \n",
       "1                     0.0                     0.860        0        0   \n",
       "2                     0.0                  5741.667        1        0   \n",
       "3                     0.0                     9.900        0        0   \n",
       "4                     0.0                -99999.000        0        0   \n",
       "\n",
       "   last_prod_enq2  first_prod_enq2  Credit_Score  Approved_Flag  \n",
       "0              PL               PL           696             P2  \n",
       "1    ConsumerLoan     ConsumerLoan           685             P2  \n",
       "2    ConsumerLoan           others           693             P2  \n",
       "3          others           others           673             P2  \n",
       "4              AL               AL           753             P1  \n",
       "\n",
       "[5 rows x 62 columns]"
      ]
     },
     "execution_count": 9,
     "metadata": {},
     "output_type": "execute_result"
    }
   ],
   "source": [
    "df2.head()"
   ]
  },
  {
   "cell_type": "markdown",
   "id": "48c4aaad",
   "metadata": {},
   "source": [
    "#### We observe that some values in both the datasets are -99999. These values indicate missing values."
   ]
  },
  {
   "cell_type": "markdown",
   "id": "439a2296",
   "metadata": {},
   "source": [
    "#### Analyzing the data types of both datasets"
   ]
  },
  {
   "cell_type": "code",
   "execution_count": 10,
   "id": "bb1cf9a5",
   "metadata": {},
   "outputs": [
    {
     "name": "stdout",
     "output_type": "stream",
     "text": [
      "<class 'pandas.core.frame.DataFrame'>\n",
      "RangeIndex: 51336 entries, 0 to 51335\n",
      "Data columns (total 26 columns):\n",
      " #   Column                Non-Null Count  Dtype  \n",
      "---  ------                --------------  -----  \n",
      " 0   PROSPECTID            51336 non-null  int64  \n",
      " 1   Total_TL              51336 non-null  int64  \n",
      " 2   Tot_Closed_TL         51336 non-null  int64  \n",
      " 3   Tot_Active_TL         51336 non-null  int64  \n",
      " 4   Total_TL_opened_L6M   51336 non-null  int64  \n",
      " 5   Tot_TL_closed_L6M     51336 non-null  int64  \n",
      " 6   pct_tl_open_L6M       51336 non-null  float64\n",
      " 7   pct_tl_closed_L6M     51336 non-null  float64\n",
      " 8   pct_active_tl         51336 non-null  float64\n",
      " 9   pct_closed_tl         51336 non-null  float64\n",
      " 10  Total_TL_opened_L12M  51336 non-null  int64  \n",
      " 11  Tot_TL_closed_L12M    51336 non-null  int64  \n",
      " 12  pct_tl_open_L12M      51336 non-null  float64\n",
      " 13  pct_tl_closed_L12M    51336 non-null  float64\n",
      " 14  Tot_Missed_Pmnt       51336 non-null  int64  \n",
      " 15  Auto_TL               51336 non-null  int64  \n",
      " 16  CC_TL                 51336 non-null  int64  \n",
      " 17  Consumer_TL           51336 non-null  int64  \n",
      " 18  Gold_TL               51336 non-null  int64  \n",
      " 19  Home_TL               51336 non-null  int64  \n",
      " 20  PL_TL                 51336 non-null  int64  \n",
      " 21  Secured_TL            51336 non-null  int64  \n",
      " 22  Unsecured_TL          51336 non-null  int64  \n",
      " 23  Other_TL              51336 non-null  int64  \n",
      " 24  Age_Oldest_TL         51336 non-null  int64  \n",
      " 25  Age_Newest_TL         51336 non-null  int64  \n",
      "dtypes: float64(6), int64(20)\n",
      "memory usage: 10.2 MB\n"
     ]
    }
   ],
   "source": [
    "df1.info()"
   ]
  },
  {
   "cell_type": "code",
   "execution_count": 11,
   "id": "8beccbbf",
   "metadata": {},
   "outputs": [],
   "source": [
    "#### We observe that in dataset1 there is no object datatype. So there is no need to change datatype in this set."
   ]
  },
  {
   "cell_type": "code",
   "execution_count": 12,
   "id": "c20b22f5",
   "metadata": {
    "scrolled": true
   },
   "outputs": [
    {
     "name": "stdout",
     "output_type": "stream",
     "text": [
      "<class 'pandas.core.frame.DataFrame'>\n",
      "RangeIndex: 51336 entries, 0 to 51335\n",
      "Data columns (total 62 columns):\n",
      " #   Column                        Non-Null Count  Dtype  \n",
      "---  ------                        --------------  -----  \n",
      " 0   PROSPECTID                    51336 non-null  int64  \n",
      " 1   time_since_recent_payment     51336 non-null  int64  \n",
      " 2   time_since_first_deliquency   51336 non-null  int64  \n",
      " 3   time_since_recent_deliquency  51336 non-null  int64  \n",
      " 4   num_times_delinquent          51336 non-null  int64  \n",
      " 5   max_delinquency_level         51336 non-null  int64  \n",
      " 6   max_recent_level_of_deliq     51336 non-null  int64  \n",
      " 7   num_deliq_6mts                51336 non-null  int64  \n",
      " 8   num_deliq_12mts               51336 non-null  int64  \n",
      " 9   num_deliq_6_12mts             51336 non-null  int64  \n",
      " 10  max_deliq_6mts                51336 non-null  int64  \n",
      " 11  max_deliq_12mts               51336 non-null  int64  \n",
      " 12  num_times_30p_dpd             51336 non-null  int64  \n",
      " 13  num_times_60p_dpd             51336 non-null  int64  \n",
      " 14  num_std                       51336 non-null  int64  \n",
      " 15  num_std_6mts                  51336 non-null  int64  \n",
      " 16  num_std_12mts                 51336 non-null  int64  \n",
      " 17  num_sub                       51336 non-null  int64  \n",
      " 18  num_sub_6mts                  51336 non-null  int64  \n",
      " 19  num_sub_12mts                 51336 non-null  int64  \n",
      " 20  num_dbt                       51336 non-null  int64  \n",
      " 21  num_dbt_6mts                  51336 non-null  int64  \n",
      " 22  num_dbt_12mts                 51336 non-null  int64  \n",
      " 23  num_lss                       51336 non-null  int64  \n",
      " 24  num_lss_6mts                  51336 non-null  int64  \n",
      " 25  num_lss_12mts                 51336 non-null  int64  \n",
      " 26  recent_level_of_deliq         51336 non-null  int64  \n",
      " 27  tot_enq                       51336 non-null  int64  \n",
      " 28  CC_enq                        51336 non-null  int64  \n",
      " 29  CC_enq_L6m                    51336 non-null  int64  \n",
      " 30  CC_enq_L12m                   51336 non-null  int64  \n",
      " 31  PL_enq                        51336 non-null  int64  \n",
      " 32  PL_enq_L6m                    51336 non-null  int64  \n",
      " 33  PL_enq_L12m                   51336 non-null  int64  \n",
      " 34  time_since_recent_enq         51336 non-null  int64  \n",
      " 35  enq_L12m                      51336 non-null  int64  \n",
      " 36  enq_L6m                       51336 non-null  int64  \n",
      " 37  enq_L3m                       51336 non-null  int64  \n",
      " 38  MARITALSTATUS                 51336 non-null  object \n",
      " 39  EDUCATION                     51336 non-null  object \n",
      " 40  AGE                           51336 non-null  int64  \n",
      " 41  GENDER                        51336 non-null  object \n",
      " 42  NETMONTHLYINCOME              51336 non-null  int64  \n",
      " 43  Time_With_Curr_Empr           51336 non-null  int64  \n",
      " 44  pct_of_active_TLs_ever        51336 non-null  float64\n",
      " 45  pct_opened_TLs_L6m_of_L12m    51336 non-null  float64\n",
      " 46  pct_currentBal_all_TL         51336 non-null  float64\n",
      " 47  CC_utilization                51336 non-null  float64\n",
      " 48  CC_Flag                       51336 non-null  int64  \n",
      " 49  PL_utilization                51336 non-null  float64\n",
      " 50  PL_Flag                       51336 non-null  int64  \n",
      " 51  pct_PL_enq_L6m_of_L12m        51336 non-null  float64\n",
      " 52  pct_CC_enq_L6m_of_L12m        51336 non-null  float64\n",
      " 53  pct_PL_enq_L6m_of_ever        51336 non-null  float64\n",
      " 54  pct_CC_enq_L6m_of_ever        51336 non-null  float64\n",
      " 55  max_unsec_exposure_inPct      51336 non-null  float64\n",
      " 56  HL_Flag                       51336 non-null  int64  \n",
      " 57  GL_Flag                       51336 non-null  int64  \n",
      " 58  last_prod_enq2                51336 non-null  object \n",
      " 59  first_prod_enq2               51336 non-null  object \n",
      " 60  Credit_Score                  51336 non-null  int64  \n",
      " 61  Approved_Flag                 51336 non-null  object \n",
      "dtypes: float64(10), int64(46), object(6)\n",
      "memory usage: 24.3+ MB\n"
     ]
    }
   ],
   "source": [
    "df2.info()"
   ]
  },
  {
   "cell_type": "markdown",
   "id": "29256355",
   "metadata": {},
   "source": [
    "#### Now merging the two datasets based on common column. For this, we first find the common column."
   ]
  },
  {
   "cell_type": "code",
   "execution_count": 13,
   "id": "5fcf58cc",
   "metadata": {},
   "outputs": [
    {
     "name": "stdout",
     "output_type": "stream",
     "text": [
      "Common Column is :  PROSPECTID\n"
     ]
    }
   ],
   "source": [
    "for i in df1.columns:\n",
    "    for j in df2.columns:\n",
    "        if i==j:\n",
    "            print('Common Column is : ',i)"
   ]
  },
  {
   "cell_type": "code",
   "execution_count": 14,
   "id": "44834277",
   "metadata": {},
   "outputs": [],
   "source": [
    "df = pd.merge(df1,df2,how='inner',left_on='PROSPECTID',right_on='PROSPECTID')"
   ]
  },
  {
   "cell_type": "code",
   "execution_count": 15,
   "id": "60881af8",
   "metadata": {},
   "outputs": [
    {
     "data": {
      "text/plain": [
       "(51336, 87)"
      ]
     },
     "execution_count": 15,
     "metadata": {},
     "output_type": "execute_result"
    }
   ],
   "source": [
    "df.shape"
   ]
  },
  {
   "cell_type": "markdown",
   "id": "eba9891c",
   "metadata": {},
   "source": [
    "#### Converting missing values(-99999) in the dataset  to null values"
   ]
  },
  {
   "cell_type": "code",
   "execution_count": 16,
   "id": "226d08da",
   "metadata": {},
   "outputs": [],
   "source": [
    "df[df==-99999]=np.nan"
   ]
  },
  {
   "cell_type": "markdown",
   "id": "3c753b91",
   "metadata": {},
   "source": [
    "#### Finding null values in each column"
   ]
  },
  {
   "cell_type": "code",
   "execution_count": 17,
   "id": "59925d56",
   "metadata": {},
   "outputs": [
    {
     "name": "stdout",
     "output_type": "stream",
     "text": [
      "PROSPECTID ----- 0\n",
      "Total_TL ----- 0\n",
      "Tot_Closed_TL ----- 0\n",
      "Tot_Active_TL ----- 0\n",
      "Total_TL_opened_L6M ----- 0\n",
      "Tot_TL_closed_L6M ----- 0\n",
      "pct_tl_open_L6M ----- 0\n",
      "pct_tl_closed_L6M ----- 0\n",
      "pct_active_tl ----- 0\n",
      "pct_closed_tl ----- 0\n",
      "Total_TL_opened_L12M ----- 0\n",
      "Tot_TL_closed_L12M ----- 0\n",
      "pct_tl_open_L12M ----- 0\n",
      "pct_tl_closed_L12M ----- 0\n",
      "Tot_Missed_Pmnt ----- 0\n",
      "Auto_TL ----- 0\n",
      "CC_TL ----- 0\n",
      "Consumer_TL ----- 0\n",
      "Gold_TL ----- 0\n",
      "Home_TL ----- 0\n",
      "PL_TL ----- 0\n",
      "Secured_TL ----- 0\n",
      "Unsecured_TL ----- 0\n",
      "Other_TL ----- 0\n",
      "Age_Oldest_TL ----- 40\n",
      "Age_Newest_TL ----- 40\n",
      "time_since_recent_payment ----- 4291\n",
      "time_since_first_deliquency ----- 35949\n",
      "time_since_recent_deliquency ----- 35949\n",
      "num_times_delinquent ----- 0\n",
      "max_delinquency_level ----- 35949\n",
      "max_recent_level_of_deliq ----- 0\n",
      "num_deliq_6mts ----- 0\n",
      "num_deliq_12mts ----- 0\n",
      "num_deliq_6_12mts ----- 0\n",
      "max_deliq_6mts ----- 12890\n",
      "max_deliq_12mts ----- 10832\n",
      "num_times_30p_dpd ----- 0\n",
      "num_times_60p_dpd ----- 0\n",
      "num_std ----- 0\n",
      "num_std_6mts ----- 0\n",
      "num_std_12mts ----- 0\n",
      "num_sub ----- 0\n",
      "num_sub_6mts ----- 0\n",
      "num_sub_12mts ----- 0\n",
      "num_dbt ----- 0\n",
      "num_dbt_6mts ----- 0\n",
      "num_dbt_12mts ----- 0\n",
      "num_lss ----- 0\n",
      "num_lss_6mts ----- 0\n",
      "num_lss_12mts ----- 0\n",
      "recent_level_of_deliq ----- 0\n",
      "tot_enq ----- 6321\n",
      "CC_enq ----- 6321\n",
      "CC_enq_L6m ----- 6321\n",
      "CC_enq_L12m ----- 6321\n",
      "PL_enq ----- 6321\n",
      "PL_enq_L6m ----- 6321\n",
      "PL_enq_L12m ----- 6321\n",
      "time_since_recent_enq ----- 6321\n",
      "enq_L12m ----- 6321\n",
      "enq_L6m ----- 6321\n",
      "enq_L3m ----- 6321\n",
      "MARITALSTATUS ----- 0\n",
      "EDUCATION ----- 0\n",
      "AGE ----- 0\n",
      "GENDER ----- 0\n",
      "NETMONTHLYINCOME ----- 0\n",
      "Time_With_Curr_Empr ----- 0\n",
      "pct_of_active_TLs_ever ----- 0\n",
      "pct_opened_TLs_L6m_of_L12m ----- 0\n",
      "pct_currentBal_all_TL ----- 72\n",
      "CC_utilization ----- 47636\n",
      "CC_Flag ----- 0\n",
      "PL_utilization ----- 44435\n",
      "PL_Flag ----- 0\n",
      "pct_PL_enq_L6m_of_L12m ----- 0\n",
      "pct_CC_enq_L6m_of_L12m ----- 0\n",
      "pct_PL_enq_L6m_of_ever ----- 0\n",
      "pct_CC_enq_L6m_of_ever ----- 0\n",
      "max_unsec_exposure_inPct ----- 23178\n",
      "HL_Flag ----- 0\n",
      "GL_Flag ----- 0\n",
      "last_prod_enq2 ----- 0\n",
      "first_prod_enq2 ----- 0\n",
      "Credit_Score ----- 0\n",
      "Approved_Flag ----- 0\n"
     ]
    }
   ],
   "source": [
    "for i in df.columns:\n",
    "    print(i,'-----',df[i].isnull().sum())"
   ]
  },
  {
   "cell_type": "markdown",
   "id": "9cde523d",
   "metadata": {},
   "source": [
    "#### Removing columns if null values are greater than 25% or less than 1%."
   ]
  },
  {
   "cell_type": "code",
   "execution_count": 18,
   "id": "c3c7f75e",
   "metadata": {},
   "outputs": [
    {
     "name": "stdout",
     "output_type": "stream",
     "text": [
      "Columns to be removed are : \n",
      "['Age_Oldest_TL', 'Age_Newest_TL', 'time_since_first_deliquency', 'time_since_recent_deliquency', 'max_delinquency_level', 'max_deliq_6mts', 'pct_currentBal_all_TL', 'CC_utilization', 'PL_utilization', 'max_unsec_exposure_inPct']\n"
     ]
    }
   ],
   "source": [
    "cols_to_be_removed=[]\n",
    "for i in df.columns:\n",
    "    if df[i].isnull().sum()>0:\n",
    "        if df[i].isnull().sum()>0.25*df.shape[0] or df[i].isnull().sum()<.01*df.shape[0]:\n",
    "            cols_to_be_removed.append(i)\n",
    "print('Columns to be removed are : ')\n",
    "print(cols_to_be_removed)"
   ]
  },
  {
   "cell_type": "markdown",
   "id": "b610ab5a",
   "metadata": {},
   "source": [
    "#### Our final dataset is:"
   ]
  },
  {
   "cell_type": "code",
   "execution_count": 19,
   "id": "04a9e29b",
   "metadata": {},
   "outputs": [
    {
     "data": {
      "text/plain": [
       "(51336, 77)"
      ]
     },
     "execution_count": 19,
     "metadata": {},
     "output_type": "execute_result"
    }
   ],
   "source": [
    "df=df.drop(columns=cols_to_be_removed)\n",
    "df.shape"
   ]
  },
  {
   "cell_type": "markdown",
   "id": "e30d7dff",
   "metadata": {},
   "source": [
    "#### Splitting the data into Dependent(y) and Independent Columns(x)"
   ]
  },
  {
   "cell_type": "code",
   "execution_count": 20,
   "id": "b9ef46d3",
   "metadata": {},
   "outputs": [],
   "source": [
    "x=df.drop(columns=['Approved_Flag'])\n",
    "y=df['Approved_Flag']"
   ]
  },
  {
   "cell_type": "code",
   "execution_count": 21,
   "id": "56d0187a",
   "metadata": {},
   "outputs": [
    {
     "data": {
      "text/html": [
       "<div>\n",
       "<style scoped>\n",
       "    .dataframe tbody tr th:only-of-type {\n",
       "        vertical-align: middle;\n",
       "    }\n",
       "\n",
       "    .dataframe tbody tr th {\n",
       "        vertical-align: top;\n",
       "    }\n",
       "\n",
       "    .dataframe thead th {\n",
       "        text-align: right;\n",
       "    }\n",
       "</style>\n",
       "<table border=\"1\" class=\"dataframe\">\n",
       "  <thead>\n",
       "    <tr style=\"text-align: right;\">\n",
       "      <th></th>\n",
       "      <th>PROSPECTID</th>\n",
       "      <th>Total_TL</th>\n",
       "      <th>Tot_Closed_TL</th>\n",
       "      <th>Tot_Active_TL</th>\n",
       "      <th>Total_TL_opened_L6M</th>\n",
       "      <th>Tot_TL_closed_L6M</th>\n",
       "      <th>pct_tl_open_L6M</th>\n",
       "      <th>pct_tl_closed_L6M</th>\n",
       "      <th>pct_active_tl</th>\n",
       "      <th>pct_closed_tl</th>\n",
       "      <th>...</th>\n",
       "      <th>pct_PL_enq_L6m_of_L12m</th>\n",
       "      <th>pct_CC_enq_L6m_of_L12m</th>\n",
       "      <th>pct_PL_enq_L6m_of_ever</th>\n",
       "      <th>pct_CC_enq_L6m_of_ever</th>\n",
       "      <th>HL_Flag</th>\n",
       "      <th>GL_Flag</th>\n",
       "      <th>last_prod_enq2</th>\n",
       "      <th>first_prod_enq2</th>\n",
       "      <th>Credit_Score</th>\n",
       "      <th>Approved_Flag</th>\n",
       "    </tr>\n",
       "  </thead>\n",
       "  <tbody>\n",
       "    <tr>\n",
       "      <th>0</th>\n",
       "      <td>1</td>\n",
       "      <td>5</td>\n",
       "      <td>4</td>\n",
       "      <td>1</td>\n",
       "      <td>0</td>\n",
       "      <td>0</td>\n",
       "      <td>0.000</td>\n",
       "      <td>0.0</td>\n",
       "      <td>0.200</td>\n",
       "      <td>0.800</td>\n",
       "      <td>...</td>\n",
       "      <td>0.0</td>\n",
       "      <td>0.0</td>\n",
       "      <td>0.0</td>\n",
       "      <td>0.0</td>\n",
       "      <td>1</td>\n",
       "      <td>0</td>\n",
       "      <td>PL</td>\n",
       "      <td>PL</td>\n",
       "      <td>696</td>\n",
       "      <td>P2</td>\n",
       "    </tr>\n",
       "    <tr>\n",
       "      <th>1</th>\n",
       "      <td>2</td>\n",
       "      <td>1</td>\n",
       "      <td>0</td>\n",
       "      <td>1</td>\n",
       "      <td>0</td>\n",
       "      <td>0</td>\n",
       "      <td>0.000</td>\n",
       "      <td>0.0</td>\n",
       "      <td>1.000</td>\n",
       "      <td>0.000</td>\n",
       "      <td>...</td>\n",
       "      <td>0.0</td>\n",
       "      <td>0.0</td>\n",
       "      <td>0.0</td>\n",
       "      <td>0.0</td>\n",
       "      <td>0</td>\n",
       "      <td>0</td>\n",
       "      <td>ConsumerLoan</td>\n",
       "      <td>ConsumerLoan</td>\n",
       "      <td>685</td>\n",
       "      <td>P2</td>\n",
       "    </tr>\n",
       "    <tr>\n",
       "      <th>2</th>\n",
       "      <td>3</td>\n",
       "      <td>8</td>\n",
       "      <td>0</td>\n",
       "      <td>8</td>\n",
       "      <td>1</td>\n",
       "      <td>0</td>\n",
       "      <td>0.125</td>\n",
       "      <td>0.0</td>\n",
       "      <td>1.000</td>\n",
       "      <td>0.000</td>\n",
       "      <td>...</td>\n",
       "      <td>0.0</td>\n",
       "      <td>0.0</td>\n",
       "      <td>0.0</td>\n",
       "      <td>0.0</td>\n",
       "      <td>1</td>\n",
       "      <td>0</td>\n",
       "      <td>ConsumerLoan</td>\n",
       "      <td>others</td>\n",
       "      <td>693</td>\n",
       "      <td>P2</td>\n",
       "    </tr>\n",
       "    <tr>\n",
       "      <th>3</th>\n",
       "      <td>4</td>\n",
       "      <td>1</td>\n",
       "      <td>0</td>\n",
       "      <td>1</td>\n",
       "      <td>1</td>\n",
       "      <td>0</td>\n",
       "      <td>1.000</td>\n",
       "      <td>0.0</td>\n",
       "      <td>1.000</td>\n",
       "      <td>0.000</td>\n",
       "      <td>...</td>\n",
       "      <td>0.0</td>\n",
       "      <td>0.0</td>\n",
       "      <td>0.0</td>\n",
       "      <td>0.0</td>\n",
       "      <td>0</td>\n",
       "      <td>0</td>\n",
       "      <td>others</td>\n",
       "      <td>others</td>\n",
       "      <td>673</td>\n",
       "      <td>P2</td>\n",
       "    </tr>\n",
       "    <tr>\n",
       "      <th>4</th>\n",
       "      <td>5</td>\n",
       "      <td>3</td>\n",
       "      <td>2</td>\n",
       "      <td>1</td>\n",
       "      <td>0</td>\n",
       "      <td>0</td>\n",
       "      <td>0.000</td>\n",
       "      <td>0.0</td>\n",
       "      <td>0.333</td>\n",
       "      <td>0.667</td>\n",
       "      <td>...</td>\n",
       "      <td>0.0</td>\n",
       "      <td>0.0</td>\n",
       "      <td>0.0</td>\n",
       "      <td>0.0</td>\n",
       "      <td>0</td>\n",
       "      <td>0</td>\n",
       "      <td>AL</td>\n",
       "      <td>AL</td>\n",
       "      <td>753</td>\n",
       "      <td>P1</td>\n",
       "    </tr>\n",
       "  </tbody>\n",
       "</table>\n",
       "<p>5 rows × 77 columns</p>\n",
       "</div>"
      ],
      "text/plain": [
       "   PROSPECTID  Total_TL  Tot_Closed_TL  Tot_Active_TL  Total_TL_opened_L6M  \\\n",
       "0           1         5              4              1                    0   \n",
       "1           2         1              0              1                    0   \n",
       "2           3         8              0              8                    1   \n",
       "3           4         1              0              1                    1   \n",
       "4           5         3              2              1                    0   \n",
       "\n",
       "   Tot_TL_closed_L6M  pct_tl_open_L6M  pct_tl_closed_L6M  pct_active_tl  \\\n",
       "0                  0            0.000                0.0          0.200   \n",
       "1                  0            0.000                0.0          1.000   \n",
       "2                  0            0.125                0.0          1.000   \n",
       "3                  0            1.000                0.0          1.000   \n",
       "4                  0            0.000                0.0          0.333   \n",
       "\n",
       "   pct_closed_tl  ...  pct_PL_enq_L6m_of_L12m  pct_CC_enq_L6m_of_L12m  \\\n",
       "0          0.800  ...                     0.0                     0.0   \n",
       "1          0.000  ...                     0.0                     0.0   \n",
       "2          0.000  ...                     0.0                     0.0   \n",
       "3          0.000  ...                     0.0                     0.0   \n",
       "4          0.667  ...                     0.0                     0.0   \n",
       "\n",
       "   pct_PL_enq_L6m_of_ever  pct_CC_enq_L6m_of_ever  HL_Flag  GL_Flag  \\\n",
       "0                     0.0                     0.0        1        0   \n",
       "1                     0.0                     0.0        0        0   \n",
       "2                     0.0                     0.0        1        0   \n",
       "3                     0.0                     0.0        0        0   \n",
       "4                     0.0                     0.0        0        0   \n",
       "\n",
       "   last_prod_enq2  first_prod_enq2  Credit_Score  Approved_Flag  \n",
       "0              PL               PL           696             P2  \n",
       "1    ConsumerLoan     ConsumerLoan           685             P2  \n",
       "2    ConsumerLoan           others           693             P2  \n",
       "3          others           others           673             P2  \n",
       "4              AL               AL           753             P1  \n",
       "\n",
       "[5 rows x 77 columns]"
      ]
     },
     "execution_count": 21,
     "metadata": {},
     "output_type": "execute_result"
    }
   ],
   "source": [
    "df.head()"
   ]
  },
  {
   "cell_type": "markdown",
   "id": "39f1fe63",
   "metadata": {},
   "source": [
    "#### Splitting the data into train and test"
   ]
  },
  {
   "cell_type": "raw",
   "id": "d88dd8ba",
   "metadata": {},
   "source": [
    "#### Seperating the numerical and categorical columns in the dataset."
   ]
  },
  {
   "cell_type": "code",
   "execution_count": 22,
   "id": "cbe3ac07",
   "metadata": {},
   "outputs": [],
   "source": [
    "numerical_columns=[]\n",
    "categorical_columns=[]\n",
    "for i in df.columns:\n",
    "    if df[i].dtypes=='object':\n",
    "        categorical_columns.append(i)\n",
    "    else:\n",
    "        numerical_columns.append(i)\n",
    "    "
   ]
  },
  {
   "cell_type": "code",
   "execution_count": 23,
   "id": "aa312799",
   "metadata": {
    "scrolled": true
   },
   "outputs": [
    {
     "name": "stdout",
     "output_type": "stream",
     "text": [
      "Categorical Columns are :\n"
     ]
    },
    {
     "data": {
      "text/html": [
       "<div>\n",
       "<style scoped>\n",
       "    .dataframe tbody tr th:only-of-type {\n",
       "        vertical-align: middle;\n",
       "    }\n",
       "\n",
       "    .dataframe tbody tr th {\n",
       "        vertical-align: top;\n",
       "    }\n",
       "\n",
       "    .dataframe thead th {\n",
       "        text-align: right;\n",
       "    }\n",
       "</style>\n",
       "<table border=\"1\" class=\"dataframe\">\n",
       "  <thead>\n",
       "    <tr style=\"text-align: right;\">\n",
       "      <th></th>\n",
       "      <th>0</th>\n",
       "    </tr>\n",
       "  </thead>\n",
       "  <tbody>\n",
       "    <tr>\n",
       "      <th>0</th>\n",
       "      <td>MARITALSTATUS</td>\n",
       "    </tr>\n",
       "    <tr>\n",
       "      <th>1</th>\n",
       "      <td>EDUCATION</td>\n",
       "    </tr>\n",
       "    <tr>\n",
       "      <th>2</th>\n",
       "      <td>GENDER</td>\n",
       "    </tr>\n",
       "    <tr>\n",
       "      <th>3</th>\n",
       "      <td>last_prod_enq2</td>\n",
       "    </tr>\n",
       "    <tr>\n",
       "      <th>4</th>\n",
       "      <td>first_prod_enq2</td>\n",
       "    </tr>\n",
       "    <tr>\n",
       "      <th>5</th>\n",
       "      <td>Approved_Flag</td>\n",
       "    </tr>\n",
       "  </tbody>\n",
       "</table>\n",
       "</div>"
      ],
      "text/plain": [
       "                 0\n",
       "0    MARITALSTATUS\n",
       "1        EDUCATION\n",
       "2           GENDER\n",
       "3   last_prod_enq2\n",
       "4  first_prod_enq2\n",
       "5    Approved_Flag"
      ]
     },
     "execution_count": 23,
     "metadata": {},
     "output_type": "execute_result"
    }
   ],
   "source": [
    "print('Categorical Columns are :')\n",
    "pd.DataFrame(categorical_columns)"
   ]
  },
  {
   "cell_type": "code",
   "execution_count": 24,
   "id": "39d13c64",
   "metadata": {},
   "outputs": [
    {
     "name": "stdout",
     "output_type": "stream",
     "text": [
      "Numerical Columns are :\n"
     ]
    },
    {
     "data": {
      "text/html": [
       "<div>\n",
       "<style scoped>\n",
       "    .dataframe tbody tr th:only-of-type {\n",
       "        vertical-align: middle;\n",
       "    }\n",
       "\n",
       "    .dataframe tbody tr th {\n",
       "        vertical-align: top;\n",
       "    }\n",
       "\n",
       "    .dataframe thead th {\n",
       "        text-align: right;\n",
       "    }\n",
       "</style>\n",
       "<table border=\"1\" class=\"dataframe\">\n",
       "  <thead>\n",
       "    <tr style=\"text-align: right;\">\n",
       "      <th></th>\n",
       "      <th>0</th>\n",
       "    </tr>\n",
       "  </thead>\n",
       "  <tbody>\n",
       "    <tr>\n",
       "      <th>0</th>\n",
       "      <td>PROSPECTID</td>\n",
       "    </tr>\n",
       "    <tr>\n",
       "      <th>1</th>\n",
       "      <td>Total_TL</td>\n",
       "    </tr>\n",
       "    <tr>\n",
       "      <th>2</th>\n",
       "      <td>Tot_Closed_TL</td>\n",
       "    </tr>\n",
       "    <tr>\n",
       "      <th>3</th>\n",
       "      <td>Tot_Active_TL</td>\n",
       "    </tr>\n",
       "    <tr>\n",
       "      <th>4</th>\n",
       "      <td>Total_TL_opened_L6M</td>\n",
       "    </tr>\n",
       "    <tr>\n",
       "      <th>...</th>\n",
       "      <td>...</td>\n",
       "    </tr>\n",
       "    <tr>\n",
       "      <th>66</th>\n",
       "      <td>pct_PL_enq_L6m_of_ever</td>\n",
       "    </tr>\n",
       "    <tr>\n",
       "      <th>67</th>\n",
       "      <td>pct_CC_enq_L6m_of_ever</td>\n",
       "    </tr>\n",
       "    <tr>\n",
       "      <th>68</th>\n",
       "      <td>HL_Flag</td>\n",
       "    </tr>\n",
       "    <tr>\n",
       "      <th>69</th>\n",
       "      <td>GL_Flag</td>\n",
       "    </tr>\n",
       "    <tr>\n",
       "      <th>70</th>\n",
       "      <td>Credit_Score</td>\n",
       "    </tr>\n",
       "  </tbody>\n",
       "</table>\n",
       "<p>71 rows × 1 columns</p>\n",
       "</div>"
      ],
      "text/plain": [
       "                         0\n",
       "0               PROSPECTID\n",
       "1                 Total_TL\n",
       "2            Tot_Closed_TL\n",
       "3            Tot_Active_TL\n",
       "4      Total_TL_opened_L6M\n",
       "..                     ...\n",
       "66  pct_PL_enq_L6m_of_ever\n",
       "67  pct_CC_enq_L6m_of_ever\n",
       "68                 HL_Flag\n",
       "69                 GL_Flag\n",
       "70            Credit_Score\n",
       "\n",
       "[71 rows x 1 columns]"
      ]
     },
     "execution_count": 24,
     "metadata": {},
     "output_type": "execute_result"
    }
   ],
   "source": [
    "print('Numerical Columns are :')\n",
    "pd.DataFrame(numerical_columns)"
   ]
  },
  {
   "cell_type": "code",
   "execution_count": 25,
   "id": "47422944",
   "metadata": {},
   "outputs": [
    {
     "name": "stdout",
     "output_type": "stream",
     "text": [
      "We have 71 Numerical columns and 6 Categorical columns.\n"
     ]
    }
   ],
   "source": [
    "print(f'We have {len(numerical_columns)} Numerical columns and {len(categorical_columns)} Categorical columns.')"
   ]
  },
  {
   "cell_type": "markdown",
   "id": "adf44aea",
   "metadata": {},
   "source": [
    "#### Imputing missing values using KNN imputer."
   ]
  },
  {
   "cell_type": "code",
   "execution_count": 26,
   "id": "5fb964f9",
   "metadata": {},
   "outputs": [],
   "source": [
    "#### Imputing null values\n",
    "from sklearn.impute import KNNImputer\n",
    "imputer=KNNImputer(n_neighbors=5)\n",
    "df_imputed=pd.DataFrame(imputer.fit_transform(df[numerical_columns]),columns=numerical_columns)"
   ]
  },
  {
   "cell_type": "markdown",
   "id": "adefade6",
   "metadata": {},
   "source": [
    "#### concatenating numerical and categorical columns."
   ]
  },
  {
   "cell_type": "code",
   "execution_count": 27,
   "id": "ea8f2c73",
   "metadata": {},
   "outputs": [],
   "source": [
    "final_df_imputed=pd.concat((df_imputed,df[categorical_columns]),axis=1)"
   ]
  },
  {
   "cell_type": "markdown",
   "id": "0a04afb0",
   "metadata": {},
   "source": [
    "#### Chi Square test : For analysing important categorical columns."
   ]
  },
  {
   "cell_type": "code",
   "execution_count": 28,
   "id": "b48b4bda",
   "metadata": {},
   "outputs": [],
   "source": [
    "from scipy.stats import chi2_contingency"
   ]
  },
  {
   "cell_type": "code",
   "execution_count": 29,
   "id": "fab4d68d",
   "metadata": {},
   "outputs": [
    {
     "name": "stdout",
     "output_type": "stream",
     "text": [
      "MARITALSTATUS ------ 2.7588304433709322e-257\n",
      "EDUCATION ------ 8.464676085080213e-38\n",
      "GENDER ------ 0.0002450667989541709\n",
      "last_prod_enq2 ------ 0.0\n",
      "first_prod_enq2 ------ 0.0\n",
      "Approved_Flag ------ 0.0\n"
     ]
    }
   ],
   "source": [
    "for i in categorical_columns:\n",
    "    chi2,p_value,_,_=chi2_contingency(pd.crosstab(final_df_imputed[i],final_df_imputed['Approved_Flag']))\n",
    "    print(i,'------',p_value)"
   ]
  },
  {
   "cell_type": "markdown",
   "id": "9882612a",
   "metadata": {},
   "source": [
    "#### For every categorical column, pvalue is less than 0.05. So we reject null hypothesis. Our null hypothesis was that there is no relationship between the categorical columns. So all categorical variables are significant variables."
   ]
  },
  {
   "cell_type": "markdown",
   "id": "8f06e33b",
   "metadata": {},
   "source": [
    "#### Analysing Multi Collinearity using Variance Inflation factor"
   ]
  },
  {
   "cell_type": "code",
   "execution_count": 30,
   "id": "af1c800a",
   "metadata": {},
   "outputs": [],
   "source": [
    "from statsmodels.stats.outliers_influence import variance_inflation_factor"
   ]
  },
  {
   "cell_type": "markdown",
   "id": "eb3847d3",
   "metadata": {},
   "source": [
    "#### Removing PROSPECTID column because its a Personal Identifier."
   ]
  },
  {
   "cell_type": "code",
   "execution_count": 31,
   "id": "a58b97c8",
   "metadata": {},
   "outputs": [],
   "source": [
    "numerical_columns.remove ('PROSPECTID')"
   ]
  },
  {
   "cell_type": "code",
   "execution_count": 32,
   "id": "1c99a402",
   "metadata": {},
   "outputs": [],
   "source": [
    "vif_data=final_df_imputed[numerical_columns]\n",
    "total_columns=vif_data.shape[1]\n",
    "columns_to_be_kept=[]\n",
    "column_index=0"
   ]
  },
  {
   "cell_type": "code",
   "execution_count": 33,
   "id": "b25e14fe",
   "metadata": {},
   "outputs": [
    {
     "name": "stdout",
     "output_type": "stream",
     "text": [
      "0 ------ inf\n",
      "1 ------ inf\n",
      "2 ------ inf\n",
      "3 ------ 8.200392749399086\n",
      "4 ------ 6.728917067986167\n",
      "5 ------ 5.448123385446685\n",
      "6 ------ 4.025651895201404\n",
      "7 ------ inf\n",
      "8 ------ 1154.9070399619238\n",
      "9 ------ 15.027922432428458\n",
      "10 ------ 8.925061333806436\n",
      "11 ------ 3.7839174351476967\n",
      "12 ------ 4.517664766598121\n",
      "13 ------ 2.1367110714807045\n",
      "14 ------ inf\n",
      "15 ------ inf\n",
      "16 ------ inf\n",
      "17 ------ inf\n",
      "18 ------ inf\n",
      "19 ------ inf\n",
      "20 ------ inf\n",
      "21 ------ inf\n",
      "22 ------ inf\n",
      "23 ------ 1.5028686387631633\n",
      "24 ------ 7.615797203831498\n",
      "25 ------ 5.090107563326957\n",
      "26 ------ inf\n",
      "27 ------ inf\n",
      "28 ------ inf\n",
      "29 ------ 2.1186367091835754\n",
      "30 ------ 13.667990931538197\n",
      "31 ------ 8.243697374786564\n",
      "32 ------ 6.117354219932596\n",
      "33 ------ 14.045755463703415\n",
      "34 ------ 21.810974212129192\n",
      "35 ------ 1.5598652366821677\n",
      "36 ------ 2.547274692120014\n",
      "37 ------ 3.1031475514844202\n",
      "38 ------ 2.1934716608130276\n",
      "39 ------ 7.382593462764802\n",
      "40 ------ 9.298471893381436\n",
      "41 ------ 2.724345525129291\n",
      "42 ------ 6.355263028774884\n",
      "43 ------ 7.948924972488595\n",
      "44 ------ 4.948065438658257\n",
      "45 ------ 11.591132109148786\n",
      "46 ------ 7.120120447470741\n",
      "47 ------ 8.356697920881459\n",
      "48 ------ 11.243979506628815\n",
      "49 ------ 9.143322301957832\n",
      "50 ------ 11.44338868875913\n",
      "51 ------ 16.38022488637098\n",
      "52 ------ 1.4180242696523624\n",
      "53 ------ 24.176072117082036\n",
      "54 ------ 21.466176852820503\n",
      "55 ------ 5.798805109063224\n",
      "56 ------ 1.3686289489029642\n",
      "57 ------ 1.0563909308083805\n",
      "58 ------ 1.2645035595073957\n",
      "59 ------ inf\n",
      "60 ------ 4.889467182758517\n",
      "61 ------ 2.9385776345647643\n",
      "62 ------ 2.3347888878508676\n",
      "63 ------ 19.746935481119976\n",
      "64 ------ 18.410483574347875\n",
      "65 ------ 19.247865637505807\n",
      "66 ------ 16.808545419088116\n",
      "67 ------ 1.6940511835362442\n",
      "68 ------ 4.177292522041172\n",
      "69 ------ 3.2631018914861722\n"
     ]
    }
   ],
   "source": [
    "for i in range(0,total_columns):\n",
    "    vif_value=variance_inflation_factor(vif_data,column_index)\n",
    "    print(column_index,'------',vif_value)\n",
    "    column_index+=1\n",
    "    if vif_value<10:\n",
    "        columns_to_be_kept.append(numerical_columns[i])\n",
    "  "
   ]
  },
  {
   "cell_type": "code",
   "execution_count": 34,
   "id": "f6707e8d",
   "metadata": {},
   "outputs": [
    {
     "data": {
      "text/plain": [
       "38"
      ]
     },
     "execution_count": 34,
     "metadata": {},
     "output_type": "execute_result"
    }
   ],
   "source": [
    "len(columns_to_be_kept)"
   ]
  },
  {
   "cell_type": "code",
   "execution_count": 35,
   "id": "7afab5f5",
   "metadata": {},
   "outputs": [],
   "source": [
    "df_after_vif=final_df_imputed[columns_to_be_kept + categorical_columns]"
   ]
  },
  {
   "cell_type": "code",
   "execution_count": 36,
   "id": "62b7a5b5",
   "metadata": {},
   "outputs": [
    {
     "data": {
      "text/plain": [
       "(51336, 44)"
      ]
     },
     "execution_count": 36,
     "metadata": {},
     "output_type": "execute_result"
    }
   ],
   "source": [
    "df_after_vif.shape"
   ]
  },
  {
   "cell_type": "markdown",
   "id": "9d3371c5",
   "metadata": {},
   "source": [
    "#### ANOVA Test"
   ]
  },
  {
   "cell_type": "code",
   "execution_count": 37,
   "id": "7696703a",
   "metadata": {},
   "outputs": [],
   "source": [
    "from scipy.stats import f_oneway"
   ]
  },
  {
   "cell_type": "code",
   "execution_count": 38,
   "id": "085cc63f",
   "metadata": {},
   "outputs": [],
   "source": [
    "columns_to_be_kept_numerical=[]\n",
    "for i in columns_to_be_kept:\n",
    "  a=list(df_after_vif[i])\n",
    "  b=list(df_after_vif['Approved_Flag'])\n",
    "\n",
    "  group_p1=[value for value,group in zip(a,b) if group=='P1']\n",
    "  group_p2=[value for value,group in zip(a,b) if group=='P2']\n",
    "  group_p3=[value for value,group in zip(a,b) if group=='P3']\n",
    "  group_p4=[value for value,group in zip(a,b) if group=='P4']\n",
    "\n",
    "  f_statistic,p_value=f_oneway(group_p1,group_p2,group_p3,group_p4)\n",
    "  if p_value<0.05:\n",
    "    columns_to_be_kept_numerical.append(i)"
   ]
  },
  {
   "cell_type": "code",
   "execution_count": 39,
   "id": "24f95c62",
   "metadata": {},
   "outputs": [
    {
     "data": {
      "text/plain": [
       "34"
      ]
     },
     "execution_count": 39,
     "metadata": {},
     "output_type": "execute_result"
    }
   ],
   "source": [
    "len(columns_to_be_kept_numerical)"
   ]
  },
  {
   "cell_type": "code",
   "execution_count": 40,
   "id": "f37fc6a0",
   "metadata": {},
   "outputs": [],
   "source": [
    "df_after_anova=df_after_vif[columns_to_be_kept_numerical + categorical_columns]"
   ]
  },
  {
   "cell_type": "code",
   "execution_count": 41,
   "id": "9dec0eab",
   "metadata": {},
   "outputs": [
    {
     "data": {
      "text/plain": [
       "(51336, 40)"
      ]
     },
     "execution_count": 41,
     "metadata": {},
     "output_type": "execute_result"
    }
   ],
   "source": [
    "df_after_anova.shape"
   ]
  },
  {
   "cell_type": "code",
   "execution_count": 42,
   "id": "6999ecf1",
   "metadata": {},
   "outputs": [],
   "source": [
    "#### Our final dataset has 40 variables."
   ]
  },
  {
   "cell_type": "markdown",
   "id": "83b13add",
   "metadata": {},
   "source": [
    "#### Analyzing unique values in the categorical columns of our final dataset"
   ]
  },
  {
   "cell_type": "code",
   "execution_count": 43,
   "id": "fda5de50",
   "metadata": {},
   "outputs": [
    {
     "name": "stdout",
     "output_type": "stream",
     "text": [
      "MARITALSTATUS\n",
      "['Married' 'Single']\n",
      "**********\n",
      "EDUCATION\n",
      "['12TH' 'GRADUATE' 'SSC' 'POST-GRADUATE' 'UNDER GRADUATE' 'OTHERS'\n",
      " 'PROFESSIONAL']\n",
      "**********\n",
      "GENDER\n",
      "['M' 'F']\n",
      "**********\n",
      "last_prod_enq2\n",
      "['PL' 'ConsumerLoan' 'others' 'AL' 'CC' 'HL']\n",
      "**********\n",
      "first_prod_enq2\n",
      "['PL' 'ConsumerLoan' 'others' 'AL' 'HL' 'CC']\n",
      "**********\n",
      "Approved_Flag\n",
      "['P2' 'P1' 'P3' 'P4']\n",
      "**********\n"
     ]
    }
   ],
   "source": [
    "for i in df_after_anova.columns[df_after_anova.dtypes==object]:\n",
    "    print(i)\n",
    "    print(df_after_anova[i].unique())\n",
    "    print('*'*10)\n",
    "    "
   ]
  },
  {
   "cell_type": "markdown",
   "id": "58ff8b2b",
   "metadata": {},
   "source": [
    "#### The data in all the columns except EDUCATION and Approved_Flag does not seem to follow any order. So we will use one hot encoding for these columns."
   ]
  },
  {
   "cell_type": "code",
   "execution_count": 44,
   "id": "8704d460",
   "metadata": {},
   "outputs": [],
   "source": [
    "df_after_anova=df_after_anova.drop(columns=['EDUCATION','Approved_Flag'])\n",
    "df_after_anova=pd.get_dummies(df_after_anova,drop_first=True,dtype=int)"
   ]
  },
  {
   "cell_type": "markdown",
   "id": "89671e03",
   "metadata": {},
   "source": [
    "#### Now concatenating the dropped columns 'EDUCATION','Approved_Flag' to the dataset df3 again."
   ]
  },
  {
   "cell_type": "code",
   "execution_count": 45,
   "id": "af8b78dc",
   "metadata": {},
   "outputs": [],
   "source": [
    "df_after_anova=pd.concat([df_after_anova,df_after_vif['EDUCATION'],df_after_vif['Approved_Flag']],axis=1)"
   ]
  },
  {
   "cell_type": "code",
   "execution_count": 46,
   "id": "9b8623f7",
   "metadata": {},
   "outputs": [
    {
     "data": {
      "text/plain": [
       "(51336, 48)"
      ]
     },
     "execution_count": 46,
     "metadata": {},
     "output_type": "execute_result"
    }
   ],
   "source": [
    "df_after_anova.shape"
   ]
  },
  {
   "cell_type": "markdown",
   "id": "832d5594",
   "metadata": {},
   "source": [
    "#### Now converting columns Education and Approved_Flag to numeric data type."
   ]
  },
  {
   "cell_type": "code",
   "execution_count": 47,
   "id": "7994c635",
   "metadata": {},
   "outputs": [
    {
     "data": {
      "text/plain": [
       "array(['12TH', 'GRADUATE', 'SSC', 'POST-GRADUATE', 'UNDER GRADUATE',\n",
       "       'OTHERS', 'PROFESSIONAL'], dtype=object)"
      ]
     },
     "execution_count": 47,
     "metadata": {},
     "output_type": "execute_result"
    }
   ],
   "source": [
    "df_after_anova.EDUCATION.unique()"
   ]
  },
  {
   "cell_type": "code",
   "execution_count": 48,
   "id": "de837dbc",
   "metadata": {},
   "outputs": [],
   "source": [
    "dictionary={'12TH':2, 'GRADUATE':3, 'SSC':1, 'POST-GRADUATE':4, 'UNDER GRADUATE':3,'OTHERS':1, 'PROFESSIONAL':5}\n",
    "df_after_anova['EDUCATION']=df_after_anova['EDUCATION'].map(dictionary)"
   ]
  },
  {
   "cell_type": "code",
   "execution_count": 49,
   "id": "ffbb9dc4",
   "metadata": {},
   "outputs": [
    {
     "data": {
      "text/plain": [
       "array([2, 3, 1, 4, 5], dtype=int64)"
      ]
     },
     "execution_count": 49,
     "metadata": {},
     "output_type": "execute_result"
    }
   ],
   "source": [
    "df_after_anova.EDUCATION.unique()"
   ]
  },
  {
   "cell_type": "code",
   "execution_count": 50,
   "id": "7964888f",
   "metadata": {},
   "outputs": [],
   "source": [
    "dictionary1={'P1':0, 'P2':1, 'P3':2, 'P4':3}\n",
    "df_after_anova['Approved_Flag']=df_after_anova['Approved_Flag'].map(dictionary1)"
   ]
  },
  {
   "cell_type": "code",
   "execution_count": 51,
   "id": "2376b3fc",
   "metadata": {},
   "outputs": [
    {
     "data": {
      "text/plain": [
       "array([1, 0, 2, 3], dtype=int64)"
      ]
     },
     "execution_count": 51,
     "metadata": {},
     "output_type": "execute_result"
    }
   ],
   "source": [
    "df_after_anova.Approved_Flag.unique()"
   ]
  },
  {
   "cell_type": "code",
   "execution_count": 52,
   "id": "9a6a017a",
   "metadata": {},
   "outputs": [
    {
     "name": "stdout",
     "output_type": "stream",
     "text": [
      "<class 'pandas.core.frame.DataFrame'>\n",
      "RangeIndex: 51336 entries, 0 to 51335\n",
      "Data columns (total 48 columns):\n",
      " #   Column                        Non-Null Count  Dtype  \n",
      "---  ------                        --------------  -----  \n",
      " 0   Total_TL_opened_L6M           51336 non-null  float64\n",
      " 1   Tot_TL_closed_L6M             51336 non-null  float64\n",
      " 2   pct_tl_open_L6M               51336 non-null  float64\n",
      " 3   pct_tl_closed_L6M             51336 non-null  float64\n",
      " 4   Tot_TL_closed_L12M            51336 non-null  float64\n",
      " 5   pct_tl_open_L12M              51336 non-null  float64\n",
      " 6   pct_tl_closed_L12M            51336 non-null  float64\n",
      " 7   Tot_Missed_Pmnt               51336 non-null  float64\n",
      " 8   time_since_recent_payment     51336 non-null  float64\n",
      " 9   num_times_delinquent          51336 non-null  float64\n",
      " 10  max_recent_level_of_deliq     51336 non-null  float64\n",
      " 11  max_deliq_12mts               51336 non-null  float64\n",
      " 12  num_times_60p_dpd             51336 non-null  float64\n",
      " 13  num_std                       51336 non-null  float64\n",
      " 14  num_sub                       51336 non-null  float64\n",
      " 15  num_sub_12mts                 51336 non-null  float64\n",
      " 16  num_dbt                       51336 non-null  float64\n",
      " 17  num_dbt_12mts                 51336 non-null  float64\n",
      " 18  num_lss                       51336 non-null  float64\n",
      " 19  recent_level_of_deliq         51336 non-null  float64\n",
      " 20  CC_enq                        51336 non-null  float64\n",
      " 21  CC_enq_L6m                    51336 non-null  float64\n",
      " 22  PL_enq                        51336 non-null  float64\n",
      " 23  time_since_recent_enq         51336 non-null  float64\n",
      " 24  enq_L3m                       51336 non-null  float64\n",
      " 25  AGE                           51336 non-null  float64\n",
      " 26  NETMONTHLYINCOME              51336 non-null  float64\n",
      " 27  Time_With_Curr_Empr           51336 non-null  float64\n",
      " 28  pct_opened_TLs_L6m_of_L12m    51336 non-null  float64\n",
      " 29  CC_Flag                       51336 non-null  float64\n",
      " 30  PL_Flag                       51336 non-null  float64\n",
      " 31  HL_Flag                       51336 non-null  float64\n",
      " 32  GL_Flag                       51336 non-null  float64\n",
      " 33  Credit_Score                  51336 non-null  float64\n",
      " 34  MARITALSTATUS_Single          51336 non-null  int32  \n",
      " 35  GENDER_M                      51336 non-null  int32  \n",
      " 36  last_prod_enq2_CC             51336 non-null  int32  \n",
      " 37  last_prod_enq2_ConsumerLoan   51336 non-null  int32  \n",
      " 38  last_prod_enq2_HL             51336 non-null  int32  \n",
      " 39  last_prod_enq2_PL             51336 non-null  int32  \n",
      " 40  last_prod_enq2_others         51336 non-null  int32  \n",
      " 41  first_prod_enq2_CC            51336 non-null  int32  \n",
      " 42  first_prod_enq2_ConsumerLoan  51336 non-null  int32  \n",
      " 43  first_prod_enq2_HL            51336 non-null  int32  \n",
      " 44  first_prod_enq2_PL            51336 non-null  int32  \n",
      " 45  first_prod_enq2_others        51336 non-null  int32  \n",
      " 46  EDUCATION                     51336 non-null  int64  \n",
      " 47  Approved_Flag                 51336 non-null  int64  \n",
      "dtypes: float64(34), int32(12), int64(2)\n",
      "memory usage: 16.4 MB\n"
     ]
    }
   ],
   "source": [
    "df_after_anova.info()"
   ]
  },
  {
   "cell_type": "markdown",
   "id": "35807e06",
   "metadata": {},
   "source": [
    "## We have converted the datatype to integer for categorical columns."
   ]
  },
  {
   "cell_type": "markdown",
   "id": "b4b4656d",
   "metadata": {},
   "source": [
    "#### Splitting the data into independent and dependent variables"
   ]
  },
  {
   "cell_type": "code",
   "execution_count": 53,
   "id": "31c33bed",
   "metadata": {},
   "outputs": [],
   "source": [
    "x=df_after_anova.drop('Approved_Flag',axis=1)\n",
    "y=df_after_anova['Approved_Flag']"
   ]
  },
  {
   "cell_type": "code",
   "execution_count": 54,
   "id": "10889845",
   "metadata": {},
   "outputs": [
    {
     "data": {
      "text/plain": [
       "(51336, 47)"
      ]
     },
     "execution_count": 54,
     "metadata": {},
     "output_type": "execute_result"
    }
   ],
   "source": [
    "x.shape"
   ]
  },
  {
   "cell_type": "code",
   "execution_count": 55,
   "id": "a5baefdc",
   "metadata": {},
   "outputs": [
    {
     "data": {
      "text/plain": [
       "(51336,)"
      ]
     },
     "execution_count": 55,
     "metadata": {},
     "output_type": "execute_result"
    }
   ],
   "source": [
    "y.shape"
   ]
  },
  {
   "cell_type": "markdown",
   "id": "0c0b9848",
   "metadata": {},
   "source": [
    "#### Splitting the data into train_test_split"
   ]
  },
  {
   "cell_type": "code",
   "execution_count": 56,
   "id": "08029e38",
   "metadata": {},
   "outputs": [],
   "source": [
    "from sklearn.model_selection import train_test_split"
   ]
  },
  {
   "cell_type": "code",
   "execution_count": 57,
   "id": "df5ce791",
   "metadata": {},
   "outputs": [],
   "source": [
    "x_train,x_test,y_train,y_test=train_test_split(x,y,train_size=0.80,random_state=42)"
   ]
  },
  {
   "cell_type": "code",
   "execution_count": 58,
   "id": "6262a856",
   "metadata": {},
   "outputs": [
    {
     "data": {
      "text/plain": [
       "(41068, 47)"
      ]
     },
     "execution_count": 58,
     "metadata": {},
     "output_type": "execute_result"
    }
   ],
   "source": [
    "x_train.shape"
   ]
  },
  {
   "cell_type": "code",
   "execution_count": 59,
   "id": "4c5d93ed",
   "metadata": {},
   "outputs": [
    {
     "data": {
      "text/plain": [
       "(10268, 47)"
      ]
     },
     "execution_count": 59,
     "metadata": {},
     "output_type": "execute_result"
    }
   ],
   "source": [
    "x_test.shape"
   ]
  },
  {
   "cell_type": "code",
   "execution_count": 60,
   "id": "fb4db049",
   "metadata": {},
   "outputs": [
    {
     "data": {
      "text/plain": [
       "(41068,)"
      ]
     },
     "execution_count": 60,
     "metadata": {},
     "output_type": "execute_result"
    }
   ],
   "source": [
    "y_train.shape"
   ]
  },
  {
   "cell_type": "code",
   "execution_count": 61,
   "id": "2f67a61f",
   "metadata": {},
   "outputs": [
    {
     "data": {
      "text/plain": [
       "(10268,)"
      ]
     },
     "execution_count": 61,
     "metadata": {},
     "output_type": "execute_result"
    }
   ],
   "source": [
    "y_test.shape"
   ]
  },
  {
   "cell_type": "markdown",
   "id": "8aa6dcb4",
   "metadata": {},
   "source": [
    "#### Analyzing the Dependent variable"
   ]
  },
  {
   "cell_type": "code",
   "execution_count": 62,
   "id": "70102177",
   "metadata": {},
   "outputs": [
    {
     "data": {
      "text/plain": [
       "Approved_Flag\n",
       "1    0.628713\n",
       "2    0.144054\n",
       "0    0.113665\n",
       "3    0.113568\n",
       "Name: proportion, dtype: float64"
      ]
     },
     "execution_count": 62,
     "metadata": {},
     "output_type": "execute_result"
    }
   ],
   "source": [
    "y_train.value_counts(normalize=True)"
   ]
  },
  {
   "cell_type": "markdown",
   "id": "c9fe4bee",
   "metadata": {},
   "source": [
    "#### From above we observe that our dataset is imbalanced. We will balance our dataset using SMOTE technique."
   ]
  },
  {
   "cell_type": "code",
   "execution_count": 63,
   "id": "75b4d961",
   "metadata": {},
   "outputs": [],
   "source": [
    "from imblearn.over_sampling import SMOTE"
   ]
  },
  {
   "cell_type": "code",
   "execution_count": 64,
   "id": "108bcf61",
   "metadata": {},
   "outputs": [],
   "source": [
    "sm=SMOTE(random_state=42)\n",
    "x_sm,y_sm=sm.fit_resample(x_train,y_train)"
   ]
  },
  {
   "cell_type": "code",
   "execution_count": 65,
   "id": "7ee2be9f",
   "metadata": {},
   "outputs": [
    {
     "data": {
      "text/plain": [
       "Approved_Flag\n",
       "0    25820\n",
       "1    25820\n",
       "3    25820\n",
       "2    25820\n",
       "Name: count, dtype: int64"
      ]
     },
     "execution_count": 65,
     "metadata": {},
     "output_type": "execute_result"
    }
   ],
   "source": [
    "y_sm.value_counts()"
   ]
  },
  {
   "cell_type": "markdown",
   "id": "e0d8823f",
   "metadata": {},
   "source": [
    "#### Now we have observe that our dataset is balanced."
   ]
  },
  {
   "cell_type": "markdown",
   "id": "16dc7ab2",
   "metadata": {},
   "source": [
    "# Model Building"
   ]
  },
  {
   "cell_type": "code",
   "execution_count": 66,
   "id": "2ca34bcc",
   "metadata": {},
   "outputs": [],
   "source": [
    "from sklearn.tree import DecisionTreeClassifier\n",
    "from sklearn.ensemble import RandomForestClassifier\n",
    "from sklearn.ensemble import AdaBoostClassifier\n",
    "from sklearn.ensemble import GradientBoostingClassifier\n",
    "from xgboost import XGBClassifier"
   ]
  },
  {
   "cell_type": "code",
   "execution_count": 67,
   "id": "007c4e01",
   "metadata": {},
   "outputs": [],
   "source": [
    "def final_model(classifier,x_sm,y_sm,x_test,y_test):\n",
    "    model=classifier.fit(x_sm,y_sm)\n",
    "    pred_train=model.predict(x_sm)\n",
    "    pred_test=model.predict(x_test)\n",
    "    \n",
    "    # Confusion Matrix Train data\n",
    "    print('Confusion Matrix on Training Data')\n",
    "    cm_train=confusion_matrix(y_sm,pred_train)\n",
    "    print(cm_train)\n",
    "    \n",
    "    # Confusion Matrix Test data\n",
    "    print('Confusion Matrix on Test Data')\n",
    "    cm_test=confusion_matrix(y_test,pred_test)\n",
    "    print(cm_test)\n",
    "    \n",
    "    # Classification report Train data\n",
    "    print('Classification report on Training Data')\n",
    "    cr_train=classification_report(y_sm,pred_train)\n",
    "    print(cr_train)\n",
    "    \n",
    "    # Classification report Test data\n",
    "    print('Classification report on Test Data')\n",
    "    cr_test=classification_report(y_test,pred_test)\n",
    "    print(cr_test)\n",
    "    \n",
    "    return 'Final Model'\n",
    "          \n",
    "    \n",
    "    \n",
    "    \n",
    "    "
   ]
  },
  {
   "cell_type": "code",
   "execution_count": 69,
   "id": "0b3fc3c3",
   "metadata": {},
   "outputs": [],
   "source": [
    "from sklearn.metrics import confusion_matrix,classification_report"
   ]
  },
  {
   "cell_type": "markdown",
   "id": "fe9a0521",
   "metadata": {},
   "source": [
    "# Decision Tree Classifier"
   ]
  },
  {
   "cell_type": "code",
   "execution_count": 70,
   "id": "77529c24",
   "metadata": {
    "scrolled": true
   },
   "outputs": [
    {
     "name": "stdout",
     "output_type": "stream",
     "text": [
      "Confusion Matrix on Training Data\n",
      "[[25820     0     0     0]\n",
      " [    0 25820     0     0]\n",
      " [    0     0 25820     0]\n",
      " [    0     0     0 25820]]\n",
      "Confusion Matrix on Test Data\n",
      "[[1098    0   37    0]\n",
      " [   0 6349   30    0]\n",
      " [  34    0 1502    0]\n",
      " [   0    0    1 1217]]\n",
      "Classification report on Training Data\n",
      "              precision    recall  f1-score   support\n",
      "\n",
      "           0       1.00      1.00      1.00     25820\n",
      "           1       1.00      1.00      1.00     25820\n",
      "           2       1.00      1.00      1.00     25820\n",
      "           3       1.00      1.00      1.00     25820\n",
      "\n",
      "    accuracy                           1.00    103280\n",
      "   macro avg       1.00      1.00      1.00    103280\n",
      "weighted avg       1.00      1.00      1.00    103280\n",
      "\n",
      "Classification report on Test Data\n",
      "              precision    recall  f1-score   support\n",
      "\n",
      "           0       0.97      0.97      0.97      1135\n",
      "           1       1.00      1.00      1.00      6379\n",
      "           2       0.96      0.98      0.97      1536\n",
      "           3       1.00      1.00      1.00      1218\n",
      "\n",
      "    accuracy                           0.99     10268\n",
      "   macro avg       0.98      0.98      0.98     10268\n",
      "weighted avg       0.99      0.99      0.99     10268\n",
      "\n"
     ]
    },
    {
     "data": {
      "text/plain": [
       "'Final Model'"
      ]
     },
     "execution_count": 70,
     "metadata": {},
     "output_type": "execute_result"
    }
   ],
   "source": [
    "classifier=DecisionTreeClassifier()\n",
    "final_model(classifier,x_sm,y_sm,x_test,y_test)"
   ]
  },
  {
   "cell_type": "markdown",
   "id": "013ba60e",
   "metadata": {},
   "source": [
    "# RandomForestClassifier"
   ]
  },
  {
   "cell_type": "code",
   "execution_count": 71,
   "id": "5666511a",
   "metadata": {},
   "outputs": [
    {
     "name": "stdout",
     "output_type": "stream",
     "text": [
      "Confusion Matrix on Training Data\n",
      "[[25820     0     0     0]\n",
      " [    0 25820     0     0]\n",
      " [    0     0 25820     0]\n",
      " [    0     0     0 25820]]\n",
      "Confusion Matrix on Test Data\n",
      "[[1102   20   13    0]\n",
      " [   0 6378    1    0]\n",
      " [  26   58 1452    0]\n",
      " [   0    0    0 1218]]\n",
      "Classification report on Training Data\n",
      "              precision    recall  f1-score   support\n",
      "\n",
      "           0       1.00      1.00      1.00     25820\n",
      "           1       1.00      1.00      1.00     25820\n",
      "           2       1.00      1.00      1.00     25820\n",
      "           3       1.00      1.00      1.00     25820\n",
      "\n",
      "    accuracy                           1.00    103280\n",
      "   macro avg       1.00      1.00      1.00    103280\n",
      "weighted avg       1.00      1.00      1.00    103280\n",
      "\n",
      "Classification report on Test Data\n",
      "              precision    recall  f1-score   support\n",
      "\n",
      "           0       0.98      0.97      0.97      1135\n",
      "           1       0.99      1.00      0.99      6379\n",
      "           2       0.99      0.95      0.97      1536\n",
      "           3       1.00      1.00      1.00      1218\n",
      "\n",
      "    accuracy                           0.99     10268\n",
      "   macro avg       0.99      0.98      0.98     10268\n",
      "weighted avg       0.99      0.99      0.99     10268\n",
      "\n"
     ]
    },
    {
     "data": {
      "text/plain": [
       "'Final Model'"
      ]
     },
     "execution_count": 71,
     "metadata": {},
     "output_type": "execute_result"
    }
   ],
   "source": [
    "classifier=RandomForestClassifier()\n",
    "final_model(classifier,x_sm,y_sm,x_test,y_test)"
   ]
  },
  {
   "cell_type": "markdown",
   "id": "b24d0408",
   "metadata": {},
   "source": [
    "# AdaBoostClassifier"
   ]
  },
  {
   "cell_type": "code",
   "execution_count": 72,
   "id": "3fa227f4",
   "metadata": {},
   "outputs": [
    {
     "name": "stdout",
     "output_type": "stream",
     "text": [
      "Confusion Matrix on Training Data\n",
      "[[25521     0   299     0]\n",
      " [    0 25820     0     0]\n",
      " [   28 24935   857     0]\n",
      " [    0     0 25820     0]]\n",
      "Confusion Matrix on Test Data\n",
      "[[1090    0   45    0]\n",
      " [   0 6379    0    0]\n",
      " [   1 1428  107    0]\n",
      " [   0    0 1218    0]]\n",
      "Classification report on Training Data\n",
      "              precision    recall  f1-score   support\n",
      "\n",
      "           0       1.00      0.99      0.99     25820\n",
      "           1       0.51      1.00      0.67     25820\n",
      "           2       0.03      0.03      0.03     25820\n",
      "           3       0.00      0.00      0.00     25820\n",
      "\n",
      "    accuracy                           0.51    103280\n",
      "   macro avg       0.38      0.51      0.43    103280\n",
      "weighted avg       0.38      0.51      0.43    103280\n",
      "\n",
      "Classification report on Test Data\n",
      "              precision    recall  f1-score   support\n",
      "\n",
      "           0       1.00      0.96      0.98      1135\n",
      "           1       0.82      1.00      0.90      6379\n",
      "           2       0.08      0.07      0.07      1536\n",
      "           3       0.00      0.00      0.00      1218\n",
      "\n",
      "    accuracy                           0.74     10268\n",
      "   macro avg       0.47      0.51      0.49     10268\n",
      "weighted avg       0.63      0.74      0.68     10268\n",
      "\n"
     ]
    },
    {
     "data": {
      "text/plain": [
       "'Final Model'"
      ]
     },
     "execution_count": 72,
     "metadata": {},
     "output_type": "execute_result"
    }
   ],
   "source": [
    "classifier=AdaBoostClassifier()\n",
    "final_model(classifier,x_sm,y_sm,x_test,y_test)"
   ]
  },
  {
   "cell_type": "markdown",
   "id": "ff37f8a3",
   "metadata": {},
   "source": [
    "# GradientBoostingClassifier"
   ]
  },
  {
   "cell_type": "code",
   "execution_count": 73,
   "id": "242bfe36",
   "metadata": {},
   "outputs": [
    {
     "name": "stdout",
     "output_type": "stream",
     "text": [
      "Confusion Matrix on Training Data\n",
      "[[25521     0   299     0]\n",
      " [    0 25820     0     0]\n",
      " [   28 24935   857     0]\n",
      " [    0     0 25820     0]]\n",
      "Confusion Matrix on Test Data\n",
      "[[1090    0   45    0]\n",
      " [   0 6379    0    0]\n",
      " [   1 1428  107    0]\n",
      " [   0    0 1218    0]]\n",
      "Classification report on Training Data\n",
      "              precision    recall  f1-score   support\n",
      "\n",
      "           0       1.00      0.99      0.99     25820\n",
      "           1       0.51      1.00      0.67     25820\n",
      "           2       0.03      0.03      0.03     25820\n",
      "           3       0.00      0.00      0.00     25820\n",
      "\n",
      "    accuracy                           0.51    103280\n",
      "   macro avg       0.38      0.51      0.43    103280\n",
      "weighted avg       0.38      0.51      0.43    103280\n",
      "\n",
      "Classification report on Test Data\n",
      "              precision    recall  f1-score   support\n",
      "\n",
      "           0       1.00      0.96      0.98      1135\n",
      "           1       0.82      1.00      0.90      6379\n",
      "           2       0.08      0.07      0.07      1536\n",
      "           3       0.00      0.00      0.00      1218\n",
      "\n",
      "    accuracy                           0.74     10268\n",
      "   macro avg       0.47      0.51      0.49     10268\n",
      "weighted avg       0.63      0.74      0.68     10268\n",
      "\n"
     ]
    },
    {
     "data": {
      "text/plain": [
       "'Final Model'"
      ]
     },
     "execution_count": 73,
     "metadata": {},
     "output_type": "execute_result"
    }
   ],
   "source": [
    "classifier=AdaBoostClassifier()\n",
    "final_model(classifier,x_sm,y_sm,x_test,y_test)"
   ]
  },
  {
   "cell_type": "markdown",
   "id": "a1b45d77",
   "metadata": {},
   "source": [
    "# XGBClassifier"
   ]
  },
  {
   "cell_type": "code",
   "execution_count": 74,
   "id": "955ce9a1",
   "metadata": {},
   "outputs": [
    {
     "name": "stdout",
     "output_type": "stream",
     "text": [
      "Confusion Matrix on Training Data\n",
      "[[25820     0     0     0]\n",
      " [    0 25820     0     0]\n",
      " [    0     0 25820     0]\n",
      " [    0     0     0 25820]]\n",
      "Confusion Matrix on Test Data\n",
      "[[1097    0   38    0]\n",
      " [   0 6379    0    0]\n",
      " [  16    0 1520    0]\n",
      " [   0    0    0 1218]]\n",
      "Classification report on Training Data\n",
      "              precision    recall  f1-score   support\n",
      "\n",
      "           0       1.00      1.00      1.00     25820\n",
      "           1       1.00      1.00      1.00     25820\n",
      "           2       1.00      1.00      1.00     25820\n",
      "           3       1.00      1.00      1.00     25820\n",
      "\n",
      "    accuracy                           1.00    103280\n",
      "   macro avg       1.00      1.00      1.00    103280\n",
      "weighted avg       1.00      1.00      1.00    103280\n",
      "\n",
      "Classification report on Test Data\n",
      "              precision    recall  f1-score   support\n",
      "\n",
      "           0       0.99      0.97      0.98      1135\n",
      "           1       1.00      1.00      1.00      6379\n",
      "           2       0.98      0.99      0.98      1536\n",
      "           3       1.00      1.00      1.00      1218\n",
      "\n",
      "    accuracy                           0.99     10268\n",
      "   macro avg       0.99      0.99      0.99     10268\n",
      "weighted avg       0.99      0.99      0.99     10268\n",
      "\n"
     ]
    },
    {
     "data": {
      "text/plain": [
       "'Final Model'"
      ]
     },
     "execution_count": 74,
     "metadata": {},
     "output_type": "execute_result"
    }
   ],
   "source": [
    "classifier=XGBClassifier()\n",
    "final_model(classifier,x_sm,y_sm,x_test,y_test)"
   ]
  },
  {
   "cell_type": "markdown",
   "id": "25758deb",
   "metadata": {},
   "source": [
    "# We observe that Decision Tree Classifier, Random Forest Classifier and XGB Classifier gave pretty good results."
   ]
  },
  {
   "cell_type": "code",
   "execution_count": null,
   "id": "ce57eb71",
   "metadata": {},
   "outputs": [],
   "source": []
  }
 ],
 "metadata": {
  "kernelspec": {
   "display_name": "Python 3 (ipykernel)",
   "language": "python",
   "name": "python3"
  },
  "language_info": {
   "codemirror_mode": {
    "name": "ipython",
    "version": 3
   },
   "file_extension": ".py",
   "mimetype": "text/x-python",
   "name": "python",
   "nbconvert_exporter": "python",
   "pygments_lexer": "ipython3",
   "version": "3.10.9"
  }
 },
 "nbformat": 4,
 "nbformat_minor": 5
}
